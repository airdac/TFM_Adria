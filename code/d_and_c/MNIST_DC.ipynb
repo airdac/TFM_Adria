{
 "cells": [
  {
   "cell_type": "markdown",
   "id": "2911836c",
   "metadata": {},
   "source": [
    "# D&C on the MNIST dataset"
   ]
  },
  {
   "cell_type": "markdown",
   "id": "7ea6068e",
   "metadata": {},
   "source": [
    "Comparison between SMACOF, Isomap, Local MDS and t-SNE when used with D&C on the training set of numeric MNIST. "
   ]
  },
  {
   "cell_type": "code",
   "execution_count": 5,
   "id": "c166d0b6",
   "metadata": {},
   "outputs": [
    {
     "data": {
      "text/plain": [
       "'/Users/airdac/Documents/Uni/Second/TFM/TFM_Adria/code'"
      ]
     },
     "execution_count": 5,
     "metadata": {},
     "output_type": "execute_result"
    }
   ],
   "source": [
    "import sys\n",
    "import os\n",
    "\n",
    "project_root = os.path.abspath(os.path.join(os.getcwd(), \"..\"))\n",
    "if project_root not in sys.path:\n",
    "    sys.path.insert(0, project_root)\n",
    "project_root"
   ]
  },
  {
   "cell_type": "code",
   "execution_count": 15,
   "id": "99db27fd",
   "metadata": {},
   "outputs": [],
   "source": [
    "import numpy as np\n",
    "import pandas as pd\n",
    "import matplotlib.pyplot as plt\n",
    "import matplotlib.lines as mlines\n",
    "import matplotlib.colors as mcolors\n",
    "import pickle\n",
    "import pyreadr\n",
    "from scipy.stats import gaussian_kde\n",
    "\n",
    "np.random.seed(42)"
   ]
  },
  {
   "cell_type": "code",
   "execution_count": 16,
   "id": "42462e64",
   "metadata": {},
   "outputs": [
    {
     "name": "stdout",
     "output_type": "stream",
     "text": [
      "MNIST_pixels shape: (345035, 784)\n",
      "MNIST_target shape: (345035,)\n"
     ]
    }
   ],
   "source": [
    "# Load all_data.RData\n",
    "rdata = pyreadr.read_r(os.path.join(project_root, 'd_and_c', 'MNIST.RData'))\n",
    "\n",
    "all_data_pixels = rdata[\"all_data_pixels\"]\n",
    "target = rdata[\"target\"]\n",
    "type_data = rdata[\"type_data\"]\n",
    "\n",
    "target = np.squeeze(np.array(target))\n",
    "type_data = np.squeeze(np.array(type_data))\n",
    "\n",
    "# Select train images of numbers\n",
    "numeric_target = pd.to_numeric(target, errors=\"coerce\")\n",
    "train_idx = (type_data == \"train\") & (pd.notnull(numeric_target))\n",
    "\n",
    "MNIST_pixels = all_data_pixels.loc[train_idx].values\n",
    "MNIST_target = numeric_target[train_idx]\n",
    "\n",
    "print(f\"MNIST_pixels shape: {MNIST_pixels.shape}\")\n",
    "print(f\"MNIST_target shape: {MNIST_target.shape}\")"
   ]
  },
  {
   "cell_type": "code",
   "execution_count": 17,
   "id": "2b7eb676",
   "metadata": {},
   "outputs": [],
   "source": [
    "digits = np.unique(MNIST_target)"
   ]
  },
  {
   "cell_type": "markdown",
   "id": "b8aae757",
   "metadata": {},
   "source": [
    "Isomap"
   ]
  },
  {
   "cell_type": "code",
   "execution_count": 9,
   "id": "8eebc646",
   "metadata": {},
   "outputs": [],
   "source": [
    "Isomap_path = os.path.join(project_root, 'd_and_c', 'Isomap', 'pickles', 'MNIST_train_num_DC_Isomap.pkl')\n",
    "with open(Isomap_path, \"rb\") as f:\n",
    "    bare_data = pickle.load(f)\n",
    "    Isomap_embedding = bare_data[\"embedding\"]\n",
    "    Isomap_runtime = bare_data[\"runtime\"]"
   ]
  },
  {
   "cell_type": "code",
   "execution_count": 18,
   "id": "54c3f34a",
   "metadata": {},
   "outputs": [],
   "source": [
    "# Estimate densities\n",
    "Isomap_densities = {}\n",
    "\n",
    "for digit in digits:\n",
    "    mask = MNIST_target == digit\n",
    "    data = Isomap_embedding[mask].T\n",
    "    kde = gaussian_kde(data)\n",
    "    Isomap_densities[int(digit)] = kde"
   ]
  },
  {
   "cell_type": "markdown",
   "id": "3ad5f971",
   "metadata": {},
   "source": [
    "Local MDS"
   ]
  },
  {
   "cell_type": "code",
   "execution_count": 19,
   "id": "b8084ba0",
   "metadata": {},
   "outputs": [],
   "source": [
    "LMDS_path = os.path.join(project_root, 'd_and_c', 'LMDS', 'pickles', 'MNIST_train_num_DC_LMDS.pkl')\n",
    "with open(Isomap_path, \"rb\") as f:\n",
    "    bare_data = pickle.load(f)\n",
    "    LMDS_embedding = bare_data[\"embedding\"]\n",
    "    LMDS_runtime = bare_data[\"runtime\"]"
   ]
  },
  {
   "cell_type": "code",
   "execution_count": 20,
   "id": "7340711c",
   "metadata": {},
   "outputs": [],
   "source": [
    "# Estimate densities\n",
    "LMDS_densities = {}\n",
    "\n",
    "for digit in digits:\n",
    "    mask = MNIST_target == digit\n",
    "    data = LMDS_embedding[mask].T\n",
    "    kde = gaussian_kde(data)\n",
    "    LMDS_densities[int(digit)] = kde"
   ]
  },
  {
   "cell_type": "markdown",
   "id": "57051ad9",
   "metadata": {},
   "source": [
    "SMACOF"
   ]
  },
  {
   "cell_type": "code",
   "execution_count": 21,
   "id": "61500d4e",
   "metadata": {},
   "outputs": [],
   "source": [
    "SMACOF_path = os.path.join(project_root, 'd_and_c',\n",
    "                           'SMACOF', 'pickles', 'MNIST_train_num_DC_SMACOF.pkl')\n",
    "with open(SMACOF_path, \"rb\") as f:\n",
    "    bare_data = pickle.load(f)\n",
    "    SMACOF_embedding = bare_data[\"embedding\"]\n",
    "    SMACOF_runtime = bare_data[\"runtime\"]"
   ]
  },
  {
   "cell_type": "code",
   "execution_count": 22,
   "id": "7b017212",
   "metadata": {},
   "outputs": [],
   "source": [
    "# Estimate densities\n",
    "SMACOF_densities = {}\n",
    "\n",
    "for digit in digits:\n",
    "    mask = MNIST_target == digit\n",
    "    data = SMACOF_embedding[mask].T\n",
    "    kde = gaussian_kde(data)\n",
    "    SMACOF_densities[int(digit)] = kde"
   ]
  },
  {
   "cell_type": "markdown",
   "id": "b23b311d",
   "metadata": {},
   "source": [
    "t-SNE"
   ]
  },
  {
   "cell_type": "code",
   "execution_count": 24,
   "id": "7e3e13e5",
   "metadata": {},
   "outputs": [],
   "source": [
    "tSNE_path = os.path.join(project_root, 'd_and_c',\n",
    "                         't-SNE', 'pickles', 'MNIST_train_num_DC_tSNE.pkl')\n",
    "with open(tSNE_path, \"rb\") as f:\n",
    "    bare_data = pickle.load(f)\n",
    "    tSNE_embedding = bare_data[\"embedding\"]\n",
    "    tSNE_runtime = bare_data[\"runtime\"]"
   ]
  },
  {
   "cell_type": "code",
   "execution_count": 25,
   "id": "a65c500e",
   "metadata": {},
   "outputs": [],
   "source": [
    "# Estimate densities\n",
    "tSNE_densities = {}\n",
    "\n",
    "for digit in digits:\n",
    "    mask = MNIST_target == digit\n",
    "    data = tSNE_embedding[mask].T\n",
    "    kde = gaussian_kde(data)\n",
    "    tSNE_densities[int(digit)] = kde"
   ]
  },
  {
   "cell_type": "markdown",
   "id": "d93b2aa4",
   "metadata": {},
   "source": [
    "Plot"
   ]
  },
  {
   "cell_type": "code",
   "execution_count": null,
   "id": "b031a659",
   "metadata": {},
   "outputs": [],
   "source": [
    "# Contour plot estimated densities\n",
    "set1_colors = list(plt.get_cmap('Set1').colors)\n",
    "set1_colors.append((0, 0, 0))  # Add black\n",
    "cmap = mcolors.ListedColormap(set1_colors)\n",
    "\n",
    "# Compute meshgrid for contours\n",
    "embedding_x = Isomap_embedding[:, 0]\n",
    "embedding_y = Isomap_embedding[:, 1]\n",
    "xpad = (embedding_x.max() - embedding_x.min()) * 0.05\n",
    "ypad = (embedding_y.max() - embedding_y.min()) * 0.05\n",
    "xmin, xmax = embedding_x.min() - xpad, embedding_x.max() + xpad\n",
    "ymin, ymax = embedding_y.min() - ypad, embedding_y.max() + ypad\n",
    "xx, yy = np.meshgrid(\n",
    "    np.linspace(xmin, xmax, 200),\n",
    "    np.linspace(ymin, ymax, 200)\n",
    ")\n",
    "\n",
    "fig, ax = plt.subplots(1, 1, figsize=(7.5, 7))\n",
    "for i, digit in enumerate(digits):\n",
    "    kde = Isomap_densities[int(digit)]\n",
    "    zz = kde(np.vstack([xx.ravel(), yy.ravel()])).reshape(xx.shape)\n",
    "    ax.contour(xx, yy, zz, levels=1, colors=[cmap(i)], linewidths=2)\n",
    "ax.axis('equal')\n",
    "legend_handles = [mlines.Line2D([], [], linestyle='None', marker='o',\n",
    "                                markersize=7,\n",
    "                                markerfacecolor=cmap(i),\n",
    "                                markeredgewidth=0,\n",
    "                                label=int(digit))\n",
    "                  for i, digit in enumerate(digits)]\n",
    "ax.legend(handles=legend_handles, title=\"Digit\",\n",
    "          bbox_to_anchor=(1.01, 1.01), loc='upper left')\n",
    "fig.suptitle(\n",
    "    f\"D&C Isomap on the {MNIST_target.shape[0]}-points numeric training dataset of MNIST\\nBivariate density estimation per digit\\nl={1000}, c_points={100}, runtime: {Isomap_runtime:.2f} s\")\n",
    "plt.tight_layout()"
   ]
  }
 ],
 "metadata": {
  "kernelspec": {
   "display_name": "base",
   "language": "python",
   "name": "python3"
  },
  "language_info": {
   "codemirror_mode": {
    "name": "ipython",
    "version": 3
   },
   "file_extension": ".py",
   "mimetype": "text/x-python",
   "name": "python",
   "nbconvert_exporter": "python",
   "pygments_lexer": "ipython3",
   "version": "3.12.2"
  }
 },
 "nbformat": 4,
 "nbformat_minor": 5
}
